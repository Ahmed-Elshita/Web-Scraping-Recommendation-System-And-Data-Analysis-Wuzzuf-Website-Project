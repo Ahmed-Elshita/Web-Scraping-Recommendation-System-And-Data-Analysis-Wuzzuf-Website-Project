{
 "cells": [
  {
   "cell_type": "code",
   "execution_count": 1,
   "metadata": {},
   "outputs": [],
   "source": [
    "import pandas as pd\n",
    "import numpy as np\n",
    "from sklearn.feature_extraction.text import CountVectorizer\n",
    "from sklearn.metrics.pairwise import cosine_similarity"
   ]
  },
  {
   "cell_type": "code",
   "execution_count": 27,
   "metadata": {},
   "outputs": [],
   "source": [
    "###### helper functions. Use them when needed #######\n",
    "def get_title_from_index(index):\n",
    "\treturn df[df.index == index][\"jop_tital\"].values[0]\n",
    "\n",
    "def get_index_from_title(title):\n",
    "\treturn df[df.jop_tital == title].index"
   ]
  },
  {
   "cell_type": "code",
   "execution_count": 3,
   "metadata": {},
   "outputs": [
    {
     "data": {
      "text/html": [
       "<div>\n",
       "<style scoped>\n",
       "    .dataframe tbody tr th:only-of-type {\n",
       "        vertical-align: middle;\n",
       "    }\n",
       "\n",
       "    .dataframe tbody tr th {\n",
       "        vertical-align: top;\n",
       "    }\n",
       "\n",
       "    .dataframe thead th {\n",
       "        text-align: right;\n",
       "    }\n",
       "</style>\n",
       "<table border=\"1\" class=\"dataframe\">\n",
       "  <thead>\n",
       "    <tr style=\"text-align: right;\">\n",
       "      <th></th>\n",
       "      <th>company_name</th>\n",
       "      <th>company_location</th>\n",
       "      <th>date</th>\n",
       "      <th>dateNum</th>\n",
       "      <th>jop_tital</th>\n",
       "      <th>jop_type</th>\n",
       "      <th>jop_level</th>\n",
       "      <th>min_exp</th>\n",
       "      <th>max_exp</th>\n",
       "      <th>related_jop_titel</th>\n",
       "      <th>strongKeyWord</th>\n",
       "      <th>specificWorde</th>\n",
       "      <th>description</th>\n",
       "    </tr>\n",
       "  </thead>\n",
       "  <tbody>\n",
       "    <tr>\n",
       "      <td>0</td>\n",
       "      <td>Globaction</td>\n",
       "      <td>6th of October, Giza, Egypt</td>\n",
       "      <td>4 days ago</td>\n",
       "      <td>4</td>\n",
       "      <td>Data Scientist Engineer</td>\n",
       "      <td>Full Time</td>\n",
       "      <td>Entry Level</td>\n",
       "      <td>1</td>\n",
       "      <td>1</td>\n",
       "      <td>ITSoftware Development Engineering - TelecomTe...</td>\n",
       "      <td>Data Science data</td>\n",
       "      <td>1+ Yrs of Exp Data Science  data analyst analyst</td>\n",
       "      <td>Data Science 5S Lean Manufacturing Methodology...</td>\n",
       "    </tr>\n",
       "    <tr>\n",
       "      <td>1</td>\n",
       "      <td>aliaict</td>\n",
       "      <td>Nasr City, Cairo, Egypt</td>\n",
       "      <td>5 days ago</td>\n",
       "      <td>5</td>\n",
       "      <td>Senior Data Analyst</td>\n",
       "      <td>Full Time</td>\n",
       "      <td>Experienced</td>\n",
       "      <td>2</td>\n",
       "      <td>4</td>\n",
       "      <td>ITSoftware Development AnalystResearch Enginee...</td>\n",
       "      <td>Data Data Science Science</td>\n",
       "      <td>2 - 4 Yrs of Exp Data Analysis Analysis Data S...</td>\n",
       "      <td>Data Analysis Data Science Information Managem...</td>\n",
       "    </tr>\n",
       "    <tr>\n",
       "      <td>2</td>\n",
       "      <td>Carina Wear</td>\n",
       "      <td>New Cairo, Cairo, Egypt</td>\n",
       "      <td>6 hours ago</td>\n",
       "      <td>6</td>\n",
       "      <td>Data Analyst</td>\n",
       "      <td>Full Time</td>\n",
       "      <td>Entry Level</td>\n",
       "      <td>1</td>\n",
       "      <td>3</td>\n",
       "      <td>Human Resources AnalystResearch</td>\n",
       "      <td>Data Science Data</td>\n",
       "      <td>1 - 3 Yrs of Exp Data Analysis Analysis Comput...</td>\n",
       "      <td>Data Analysis Microsoft Power BI business Anal...</td>\n",
       "    </tr>\n",
       "    <tr>\n",
       "      <td>3</td>\n",
       "      <td>Othaim</td>\n",
       "      <td>Katameya, Cairo, Egypt</td>\n",
       "      <td>3 days ago</td>\n",
       "      <td>3</td>\n",
       "      <td>Data Analyst</td>\n",
       "      <td>Full Time</td>\n",
       "      <td>Experienced</td>\n",
       "      <td>3</td>\n",
       "      <td>15</td>\n",
       "      <td>ITSoftware Development AnalystResearch</td>\n",
       "      <td>Science Data</td>\n",
       "      <td>3 - 15 Yrs of Exp Computer Science Computer Da...</td>\n",
       "      <td>Computer Science Information Technology (IT) D...</td>\n",
       "    </tr>\n",
       "    <tr>\n",
       "      <td>4</td>\n",
       "      <td>Partner &amp; More</td>\n",
       "      <td>6th of October, Giza, Egypt</td>\n",
       "      <td>10 days ago</td>\n",
       "      <td>10</td>\n",
       "      <td>Data Analyst - 1-3 years exp.</td>\n",
       "      <td>Full Time</td>\n",
       "      <td>Entry Level</td>\n",
       "      <td>1</td>\n",
       "      <td>3</td>\n",
       "      <td>ITSoftware Development AnalystResearch Enginee...</td>\n",
       "      <td>Data Data Science</td>\n",
       "      <td>1 - 3 Yrs of Exp Data Analysis Analysis Data C...</td>\n",
       "      <td>Data Analysis Analysis Data Computer Science I...</td>\n",
       "    </tr>\n",
       "  </tbody>\n",
       "</table>\n",
       "</div>"
      ],
      "text/plain": [
       "     company_name             company_location         date  dateNum  \\\n",
       "0      Globaction  6th of October, Giza, Egypt   4 days ago        4   \n",
       "1         aliaict      Nasr City, Cairo, Egypt   5 days ago        5   \n",
       "2     Carina Wear      New Cairo, Cairo, Egypt  6 hours ago        6   \n",
       "3          Othaim       Katameya, Cairo, Egypt   3 days ago        3   \n",
       "4  Partner & More  6th of October, Giza, Egypt  10 days ago       10   \n",
       "\n",
       "                       jop_tital   jop_type    jop_level  min_exp  max_exp  \\\n",
       "0        Data Scientist Engineer  Full Time  Entry Level        1        1   \n",
       "1            Senior Data Analyst  Full Time  Experienced        2        4   \n",
       "2                   Data Analyst  Full Time  Entry Level        1        3   \n",
       "3                   Data Analyst  Full Time  Experienced        3       15   \n",
       "4  Data Analyst - 1-3 years exp.  Full Time  Entry Level        1        3   \n",
       "\n",
       "                                   related_jop_titel  \\\n",
       "0  ITSoftware Development Engineering - TelecomTe...   \n",
       "1  ITSoftware Development AnalystResearch Enginee...   \n",
       "2                    Human Resources AnalystResearch   \n",
       "3             ITSoftware Development AnalystResearch   \n",
       "4  ITSoftware Development AnalystResearch Enginee...   \n",
       "\n",
       "               strongKeyWord  \\\n",
       "0          Data Science data   \n",
       "1  Data Data Science Science   \n",
       "2          Data Science Data   \n",
       "3               Science Data   \n",
       "4          Data Data Science   \n",
       "\n",
       "                                       specificWorde  \\\n",
       "0   1+ Yrs of Exp Data Science  data analyst analyst   \n",
       "1  2 - 4 Yrs of Exp Data Analysis Analysis Data S...   \n",
       "2  1 - 3 Yrs of Exp Data Analysis Analysis Comput...   \n",
       "3  3 - 15 Yrs of Exp Computer Science Computer Da...   \n",
       "4  1 - 3 Yrs of Exp Data Analysis Analysis Data C...   \n",
       "\n",
       "                                         description  \n",
       "0  Data Science 5S Lean Manufacturing Methodology...  \n",
       "1  Data Analysis Data Science Information Managem...  \n",
       "2  Data Analysis Microsoft Power BI business Anal...  \n",
       "3  Computer Science Information Technology (IT) D...  \n",
       "4  Data Analysis Analysis Data Computer Science I...  "
      ]
     },
     "execution_count": 3,
     "metadata": {},
     "output_type": "execute_result"
    }
   ],
   "source": [
    "##Step 1: Read CSV File\n",
    "df = pd.read_csv(\"Wuzzuf WebScraper Dataset.csv\")\n",
    "df.head()"
   ]
  },
  {
   "cell_type": "code",
   "execution_count": 4,
   "metadata": {},
   "outputs": [
    {
     "name": "stdout",
     "output_type": "stream",
     "text": [
      "<class 'pandas.core.frame.DataFrame'>\n",
      "RangeIndex: 75 entries, 0 to 74\n",
      "Data columns (total 13 columns):\n",
      "company_name         75 non-null object\n",
      "company_location     75 non-null object\n",
      "date                 75 non-null object\n",
      "dateNum              75 non-null int64\n",
      "jop_tital            75 non-null object\n",
      "jop_type             75 non-null object\n",
      "jop_level            75 non-null object\n",
      "min_exp              75 non-null int64\n",
      "max_exp              75 non-null int64\n",
      "related_jop_titel    75 non-null object\n",
      "strongKeyWord        64 non-null object\n",
      "specificWorde        75 non-null object\n",
      "description          75 non-null object\n",
      "dtypes: int64(3), object(10)\n",
      "memory usage: 7.7+ KB\n"
     ]
    }
   ],
   "source": [
    "df.info()"
   ]
  },
  {
   "cell_type": "code",
   "execution_count": 5,
   "metadata": {},
   "outputs": [
    {
     "data": {
      "text/plain": [
       "(75, 13)"
      ]
     },
     "execution_count": 5,
     "metadata": {},
     "output_type": "execute_result"
    }
   ],
   "source": [
    "df.shape"
   ]
  },
  {
   "cell_type": "code",
   "execution_count": 6,
   "metadata": {},
   "outputs": [
    {
     "data": {
      "text/plain": [
       "company_name          0\n",
       "company_location      0\n",
       "date                  0\n",
       "dateNum               0\n",
       "jop_tital             0\n",
       "jop_type              0\n",
       "jop_level             0\n",
       "min_exp               0\n",
       "max_exp               0\n",
       "related_jop_titel     0\n",
       "strongKeyWord        11\n",
       "specificWorde         0\n",
       "description           0\n",
       "dtype: int64"
      ]
     },
     "execution_count": 6,
     "metadata": {},
     "output_type": "execute_result"
    }
   ],
   "source": [
    "df.isna().sum()"
   ]
  },
  {
   "cell_type": "code",
   "execution_count": 8,
   "metadata": {},
   "outputs": [],
   "source": [
    "df.fillna('',inplace=True)"
   ]
  },
  {
   "cell_type": "code",
   "execution_count": 13,
   "metadata": {},
   "outputs": [],
   "source": [
    "df.drop_duplicates(inplace=True)"
   ]
  },
  {
   "cell_type": "code",
   "execution_count": 14,
   "metadata": {},
   "outputs": [],
   "source": [
    "##Step 2: Select Features\n",
    "features = ['jop_type','jop_level','related_jop_titel','strongKeyWord','specificWorde','description']"
   ]
  },
  {
   "cell_type": "code",
   "execution_count": 16,
   "metadata": {},
   "outputs": [],
   "source": [
    "##Step 3: Create a column in DF which combines all selected features\n",
    "for feature in features:\n",
    "\tdf[feature] = df[feature].fillna('')\n",
    "\n",
    "def combine_features(row):\n",
    "\ttry:\n",
    "\t\treturn row['jop_type'] +\" \"+row['jop_level']+\" \"+row[\"related_jop_titel\"]+\" \"+row[\"strongKeyWord\"]+\" \"+row[\"specificWorde\"]+\" \"+row[\"description\"]\n",
    "\texcept:\n",
    "\t\tprint (\"Error:\", row)\n"
   ]
  },
  {
   "cell_type": "code",
   "execution_count": 17,
   "metadata": {},
   "outputs": [
    {
     "data": {
      "text/plain": [
       "0    Full Time Entry Level ITSoftware Development E...\n",
       "1    Full Time Experienced ITSoftware Development A...\n",
       "2    Full Time Entry Level Human Resources AnalystR...\n",
       "3    Full Time Experienced ITSoftware Development A...\n",
       "4    Full Time Entry Level ITSoftware Development A...\n",
       "Name: combined_features, dtype: object"
      ]
     },
     "execution_count": 17,
     "metadata": {},
     "output_type": "execute_result"
    }
   ],
   "source": [
    "df[\"combined_features\"] = df.apply(combine_features,axis=1)\n",
    "\n",
    "df[\"combined_features\"].head()"
   ]
  },
  {
   "cell_type": "code",
   "execution_count": 18,
   "metadata": {},
   "outputs": [],
   "source": [
    "##Step 4: Create count matrix from this new combined column\n",
    "cv = CountVectorizer()\n",
    "\n",
    "count_matrix = cv.fit_transform(df[\"combined_features\"])"
   ]
  },
  {
   "cell_type": "code",
   "execution_count": 19,
   "metadata": {},
   "outputs": [],
   "source": [
    "##Step 5: Compute the Cosine Similarity based on the count_matrix\n",
    "cosine_sim = cosine_similarity(count_matrix)"
   ]
  },
  {
   "cell_type": "code",
   "execution_count": 20,
   "metadata": {},
   "outputs": [
    {
     "data": {
      "text/plain": [
       "array([[1.        , 0.67891242, 0.5629605 , ..., 0.28200477, 0.31627658,\n",
       "        0.34314859],\n",
       "       [0.67891242, 1.        , 0.74655171, ..., 0.59313988, 0.59834934,\n",
       "        0.56966184],\n",
       "       [0.5629605 , 0.74655171, 1.        , ..., 0.36887783, 0.34564003,\n",
       "        0.33750618],\n",
       "       ...,\n",
       "       [0.28200477, 0.59313988, 0.36887783, ..., 1.        , 0.75987664,\n",
       "        0.80944875],\n",
       "       [0.31627658, 0.59834934, 0.34564003, ..., 0.75987664, 1.        ,\n",
       "        0.73830454],\n",
       "       [0.34314859, 0.56966184, 0.33750618, ..., 0.80944875, 0.73830454,\n",
       "        1.        ]])"
      ]
     },
     "execution_count": 20,
     "metadata": {},
     "output_type": "execute_result"
    }
   ],
   "source": [
    "cosine_sim"
   ]
  },
  {
   "cell_type": "code",
   "execution_count": 37,
   "metadata": {},
   "outputs": [],
   "source": [
    "## Step 6: Get index of this movie from its title\n",
    "movie_user_likes = \"Data Analyst\"\n",
    "\n",
    "movie_index = get_index_from_title(movie_user_likes)[0]\n",
    "\n",
    "similar_movies =  list(enumerate(cosine_sim[movie_index]))"
   ]
  },
  {
   "cell_type": "code",
   "execution_count": 38,
   "metadata": {},
   "outputs": [
    {
     "data": {
      "text/plain": [
       "[(0, 0.5629604954667469),\n",
       " (1, 0.7465517058725967),\n",
       " (2, 1.0000000000000004),\n",
       " (3, 0.7348469228349536),\n",
       " (4, 0.8140915784106942),\n",
       " (5, 0.4617538752396487),\n",
       " (6, 0.5685352436149612),\n",
       " (7, 0.7533990064322368),\n",
       " (8, 0.47765850230505835),\n",
       " (9, 0.6489329914661761),\n",
       " (10, 0.7515416254704821),\n",
       " (11, 0.49330001764383435),\n",
       " (12, 0.28090032386679487),\n",
       " (13, 0.7804368548602442),\n",
       " (14, 0.541918583574065),\n",
       " (15, 0.3849001794597505),\n",
       " (16, 0.7017932675554326),\n",
       " (17, 0.7076303701373626),\n",
       " (18, 0.3161680045562236),\n",
       " (19, 0.37569568111143015),\n",
       " (20, 0.5760322529511887),\n",
       " (21, 0.5368773709008973),\n",
       " (22, 0.4781130276875432),\n",
       " (23, 0.4931533549328053),\n",
       " (24, 0.36493249912882486),\n",
       " (25, 0.33685503477268464),\n",
       " (26, 0.338401020306769),\n",
       " (27, 0.3638438983717913),\n",
       " (28, 0.3415004757769866),\n",
       " (29, 0.3543917920327852),\n",
       " (30, 0.350329236163592),\n",
       " (31, 0.26419797463373906),\n",
       " (32, 0.3638438983717913),\n",
       " (33, 0.32631500345752024),\n",
       " (34, 0.39749814964666297),\n",
       " (35, 0.41079191812887467),\n",
       " (36, 0.3638438983717913),\n",
       " (37, 0.49892218025118684),\n",
       " (38, 0.3688626719822609),\n",
       " (39, 0.32282490307549894),\n",
       " (40, 0.3772776389454068),\n",
       " (41, 0.3499338561838561),\n",
       " (42, 0.3040031078586219),\n",
       " (43, 0.3711961693228115),\n",
       " (44, 0.23640271442232502),\n",
       " (45, 0.11785113019775792),\n",
       " (46, 0.11037769642208697),\n",
       " (47, 0.3436556871445291),\n",
       " (48, 0.3436556871445291),\n",
       " (49, 0.24595492912420724),\n",
       " (50, 0.4392052305789415),\n",
       " (51, 0.25925925925925924),\n",
       " (52, 0.35902456110631603),\n",
       " (53, 0.3543917920327852),\n",
       " (54, 0.3912379450278686),\n",
       " (55, 0.3203292174136483),\n",
       " (56, 0.3499338561838561),\n",
       " (57, 0.09622504486493764),\n",
       " (58, 0.10257624248277726),\n",
       " (59, 0.12962962962962965),\n",
       " (60, 0.10499013139145202),\n",
       " (61, 0.3852084696008535),\n",
       " (62, 0.39464001411506755),\n",
       " (63, 0.3456400266225157),\n",
       " (64, 0.3499338561838561),\n",
       " (65, 0.3543917920327852),\n",
       " (66, 0.12297746456210364),\n",
       " (67, 0.3930042298310422),\n",
       " (68, 0.3375061807581558),\n",
       " (69, 0.09820927516479827),\n",
       " (70, 0.3481553119113957),\n",
       " (71, 0.11669000700233415),\n",
       " (72, 0.3688778299954577),\n",
       " (73, 0.3456400266225157),\n",
       " (74, 0.3375061807581558)]"
      ]
     },
     "execution_count": 38,
     "metadata": {},
     "output_type": "execute_result"
    }
   ],
   "source": [
    "similar_movies"
   ]
  },
  {
   "cell_type": "code",
   "execution_count": 39,
   "metadata": {},
   "outputs": [],
   "source": [
    "## Step 7: Get a list of similar movies in descending order of similarity score\n",
    "sorted_similar_movies = sorted(similar_movies,key=lambda x:x[1],reverse=True)"
   ]
  },
  {
   "cell_type": "code",
   "execution_count": 40,
   "metadata": {},
   "outputs": [
    {
     "data": {
      "text/plain": [
       "[(2, 1.0000000000000004),\n",
       " (4, 0.8140915784106942),\n",
       " (13, 0.7804368548602442),\n",
       " (7, 0.7533990064322368),\n",
       " (10, 0.7515416254704821),\n",
       " (1, 0.7465517058725967),\n",
       " (3, 0.7348469228349536),\n",
       " (17, 0.7076303701373626),\n",
       " (16, 0.7017932675554326),\n",
       " (9, 0.6489329914661761),\n",
       " (20, 0.5760322529511887),\n",
       " (6, 0.5685352436149612),\n",
       " (0, 0.5629604954667469),\n",
       " (14, 0.541918583574065),\n",
       " (21, 0.5368773709008973),\n",
       " (37, 0.49892218025118684),\n",
       " (11, 0.49330001764383435),\n",
       " (23, 0.4931533549328053),\n",
       " (22, 0.4781130276875432),\n",
       " (8, 0.47765850230505835),\n",
       " (5, 0.4617538752396487),\n",
       " (50, 0.4392052305789415),\n",
       " (35, 0.41079191812887467),\n",
       " (34, 0.39749814964666297),\n",
       " (62, 0.39464001411506755),\n",
       " (67, 0.3930042298310422),\n",
       " (54, 0.3912379450278686),\n",
       " (61, 0.3852084696008535),\n",
       " (15, 0.3849001794597505),\n",
       " (40, 0.3772776389454068),\n",
       " (19, 0.37569568111143015),\n",
       " (43, 0.3711961693228115),\n",
       " (72, 0.3688778299954577),\n",
       " (38, 0.3688626719822609),\n",
       " (24, 0.36493249912882486),\n",
       " (27, 0.3638438983717913),\n",
       " (32, 0.3638438983717913),\n",
       " (36, 0.3638438983717913),\n",
       " (52, 0.35902456110631603),\n",
       " (29, 0.3543917920327852),\n",
       " (53, 0.3543917920327852),\n",
       " (65, 0.3543917920327852),\n",
       " (30, 0.350329236163592),\n",
       " (41, 0.3499338561838561),\n",
       " (56, 0.3499338561838561),\n",
       " (64, 0.3499338561838561),\n",
       " (70, 0.3481553119113957),\n",
       " (63, 0.3456400266225157),\n",
       " (73, 0.3456400266225157),\n",
       " (47, 0.3436556871445291),\n",
       " (48, 0.3436556871445291),\n",
       " (28, 0.3415004757769866),\n",
       " (26, 0.338401020306769),\n",
       " (68, 0.3375061807581558),\n",
       " (74, 0.3375061807581558),\n",
       " (25, 0.33685503477268464),\n",
       " (33, 0.32631500345752024),\n",
       " (39, 0.32282490307549894),\n",
       " (55, 0.3203292174136483),\n",
       " (18, 0.3161680045562236),\n",
       " (42, 0.3040031078586219),\n",
       " (12, 0.28090032386679487),\n",
       " (31, 0.26419797463373906),\n",
       " (51, 0.25925925925925924),\n",
       " (49, 0.24595492912420724),\n",
       " (44, 0.23640271442232502),\n",
       " (59, 0.12962962962962965),\n",
       " (66, 0.12297746456210364),\n",
       " (45, 0.11785113019775792),\n",
       " (71, 0.11669000700233415),\n",
       " (46, 0.11037769642208697),\n",
       " (60, 0.10499013139145202),\n",
       " (58, 0.10257624248277726),\n",
       " (69, 0.09820927516479827),\n",
       " (57, 0.09622504486493764)]"
      ]
     },
     "execution_count": 40,
     "metadata": {},
     "output_type": "execute_result"
    }
   ],
   "source": [
    "sorted_similar_movies"
   ]
  },
  {
   "cell_type": "code",
   "execution_count": 42,
   "metadata": {},
   "outputs": [
    {
     "name": "stdout",
     "output_type": "stream",
     "text": [
      "Data Analyst\n",
      "Data Analyst - 1-3 years exp.\n",
      "Data Analyst (Tableau Developer)\n",
      "Data Analyst\n",
      "Data Analyst\n",
      "Senior Data Analyst\n",
      "Data Analyst\n",
      "Sr Business Analyst\n",
      "Business Analyst\n",
      "Data Analyst\n",
      "Senior ETL Developer\n"
     ]
    }
   ],
   "source": [
    "## Step 8: Print titles of first 50 movies\n",
    "i=0\n",
    "for element in sorted_similar_movies:\n",
    "\t\tprint(get_title_from_index(element[0]))\n",
    "\t\ti=i+1\n",
    "\t\tif i>10:\n",
    "\t\t\tbreak"
   ]
  },
  {
   "cell_type": "code",
   "execution_count": null,
   "metadata": {},
   "outputs": [],
   "source": []
  },
  {
   "cell_type": "code",
   "execution_count": null,
   "metadata": {},
   "outputs": [],
   "source": []
  },
  {
   "cell_type": "code",
   "execution_count": null,
   "metadata": {},
   "outputs": [],
   "source": []
  },
  {
   "cell_type": "code",
   "execution_count": null,
   "metadata": {},
   "outputs": [],
   "source": []
  }
 ],
 "metadata": {
  "kernelspec": {
   "display_name": "Python 3",
   "language": "python",
   "name": "python3"
  },
  "language_info": {
   "codemirror_mode": {
    "name": "ipython",
    "version": 3
   },
   "file_extension": ".py",
   "mimetype": "text/x-python",
   "name": "python",
   "nbconvert_exporter": "python",
   "pygments_lexer": "ipython3",
   "version": "3.7.4"
  }
 },
 "nbformat": 4,
 "nbformat_minor": 2
}
